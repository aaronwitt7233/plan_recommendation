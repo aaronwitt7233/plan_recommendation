{
 "cells": [
  {
   "cell_type": "markdown",
   "metadata": {},
   "source": [
    "# Megaline Plan Recommendation\n",
    "## Aaron Witt"
   ]
  },
  {
   "cell_type": "markdown",
   "metadata": {},
   "source": [
    "## Introduction:\n",
    "\n",
    "It has been discovered that there is a high amount of Megaline customers using legacy plans. By analyzing subscribers' behavior in terms of usage we will recommend one of Megaline's newer plans: Smart or Ultra. We have a dataset providing us with subscriber's call counts, total minutes used, total messages sent, total mb of data used and whether the subscriber has the Ultra or Smart plan. We'll perform data preprocessing, exploratory analysis, model training, and evaluation to determine which plan best suits a given user based on usage features.\n",
    "\n",
    "The dataset contains 3.214 entries with the following columns:  \n",
    "-calls: Number of voice calls made per user  \n",
    "-minutes:  Total minutes spent on calls per user  \n",
    "-messages: Number of text messages sent  \n",
    "-mb_used: Mobile internet data used (in megabytes)  \n",
    "-is_ultra: Target variable (1 for Ultra plan, 0 for Smart plan)"
   ]
  },
  {
   "cell_type": "code",
   "execution_count": 10,
   "metadata": {},
   "outputs": [
    {
     "name": "stdout",
     "output_type": "stream",
     "text": [
      "Dataset Information:\n",
      "\n",
      "    calls  minutes  messages   mb_used  is_ultra\n",
      "0   40.0   311.90      83.0  19915.42         0\n",
      "1   85.0   516.75      56.0  22696.96         0\n",
      "2   77.0   467.66      86.0  21060.45         0\n",
      "3  106.0   745.53      81.0   8437.39         1\n",
      "4   66.0   418.74       1.0  14502.75         0 \n",
      "\n",
      "<class 'pandas.core.frame.DataFrame'>\n",
      "RangeIndex: 3214 entries, 0 to 3213\n",
      "Data columns (total 5 columns):\n",
      " #   Column    Non-Null Count  Dtype  \n",
      "---  ------    --------------  -----  \n",
      " 0   calls     3214 non-null   float64\n",
      " 1   minutes   3214 non-null   float64\n",
      " 2   messages  3214 non-null   float64\n",
      " 3   mb_used   3214 non-null   float64\n",
      " 4   is_ultra  3214 non-null   int64  \n",
      "dtypes: float64(4), int64(1)\n",
      "memory usage: 125.7 KB\n",
      "None \n",
      "\n",
      "Class Distribution: \n",
      " is_ultra\n",
      "0    2229\n",
      "1     985\n",
      "Name: count, dtype: int64\n"
     ]
    }
   ],
   "source": [
    "# Import libraries and dataset\n",
    "import pandas as pd\n",
    "from sklearn.model_selection import train_test_split\n",
    "from sklearn.tree import DecisionTreeClassifier\n",
    "from sklearn.linear_model import LogisticRegression\n",
    "from sklearn.metrics import accuracy_score\n",
    "from sklearn.ensemble import RandomForestClassifier\n",
    "from sklearn.metrics import classification_report\n",
    "from sklearn.metrics import confusion_matrix\n",
    "import matplotlib.pyplot as plt\n",
    "import seaborn as sns\n",
    "\n",
    "\n",
    "df = pd.read_csv('users_behavior.csv')\n",
    "print('Dataset Information:\\n\\n',df.head(),'\\n')\n",
    "print(df.info(),'\\n')\n",
    "print('Class Distribution: \\n', df['is_ultra'].value_counts())"
   ]
  },
  {
   "cell_type": "markdown",
   "metadata": {},
   "source": [
    "We will take note of the higher representation found for users of the Smart plan compared to Ultra."
   ]
  },
  {
   "cell_type": "code",
   "execution_count": 11,
   "metadata": {},
   "outputs": [],
   "source": [
    "\n",
    "# Split the source data into a training set, a validation set, and a test set.\n",
    "features = df.drop('is_ultra', axis=1)\n",
    "target = df['is_ultra']\n",
    "# Seperate test data\n",
    "features_train_values, features_test, target_train_values, target_test = train_test_split(\n",
    "    features, target, test_size=0.2, random_state=12345)\n",
    "# Seperate training and validation data\n",
    "features_train, features_valid, target_train, target_valid = train_test_split(\n",
    "    features_train_values, target_train_values, test_size=0.25, random_state=12345)\n"
   ]
  },
  {
   "cell_type": "markdown",
   "metadata": {},
   "source": [
    "In order to achieve a model with the highest possible accuracy, we will use a random forest.  However, to create a quick baseline we will create a decision tree model and tune it's hyperparameters."
   ]
  },
  {
   "cell_type": "code",
   "execution_count": 12,
   "metadata": {},
   "outputs": [
    {
     "name": "stdout",
     "output_type": "stream",
     "text": [
      "Accuracy of the best model: 0.7744945567651633\n",
      "Model Depth: 7\n"
     ]
    }
   ],
   "source": [
    "best_model = None\n",
    "best_result = 0\n",
    "best_depth = 0\n",
    "\n",
    "for depth in range(1, 10):\n",
    "    model = DecisionTreeClassifier(random_state=12345, max_depth=depth)\n",
    "    model.fit(features_train, target_train)  # corrected variable name\n",
    "    predictions = model.predict(features_valid)\n",
    "    result = accuracy_score(target_valid, predictions)\n",
    "    if result > best_result:\n",
    "        best_model = model\n",
    "        best_result = result\n",
    "        best_depth = depth\n",
    "\n",
    "print(\"Accuracy of the best model:\", best_result)\n",
    "print(\"Model Depth:\", best_depth)"
   ]
  },
  {
   "cell_type": "code",
   "execution_count": 13,
   "metadata": {},
   "outputs": [
    {
     "name": "stdout",
     "output_type": "stream",
     "text": [
      "Accuracy of the best model: 0.7916018662519441\n",
      "\n",
      "Number of leaves:  8 \n",
      "Number of splits:  2\n"
     ]
    }
   ],
   "source": [
    "best_model = None\n",
    "best_result = 0\n",
    "\n",
    "for splits in range(2, 10):\n",
    "    for leafs in range(1,10):\n",
    "        model = DecisionTreeClassifier(random_state=12345, max_depth=7, min_samples_split=splits, min_samples_leaf=leafs)\n",
    "        model.fit(features_train, target_train)  # corrected variable name\n",
    "        predictions = model.predict(features_valid)\n",
    "        result = accuracy_score(target_valid, predictions)\n",
    "        if result > best_result:\n",
    "            best_model = model\n",
    "            best_result = result\n",
    "            num_leafs = leafs\n",
    "            num_splits = splits\n",
    "\n",
    "print(\"Accuracy of the best model:\", best_result)\n",
    "print(\"\\nNumber of leaves: \", num_leafs, \"\\nNumber of splits: \", num_splits)"
   ]
  },
  {
   "cell_type": "code",
   "execution_count": 14,
   "metadata": {},
   "outputs": [
    {
     "name": "stdout",
     "output_type": "stream",
     "text": [
      "Accuracy of the best decision tree model: 0.7916018662519441\n"
     ]
    }
   ],
   "source": [
    "model = DecisionTreeClassifier(random_state=12345, max_depth=7, min_samples_split=2, min_samples_leaf=8)\n",
    "model.fit(features_train, target_train)  # corrected variable name\n",
    "predictions = model.predict(features_valid)\n",
    "result = accuracy_score(target_valid, predictions)\n",
    "\n",
    "print(\"Accuracy of the best decision tree model:\", best_result)"
   ]
  },
  {
   "cell_type": "code",
   "execution_count": 15,
   "metadata": {},
   "outputs": [
    {
     "name": "stdout",
     "output_type": "stream",
     "text": [
      "Validation accuracy (random forest):  0.7947122861586314\n"
     ]
    }
   ],
   "source": [
    "#Create random forest model\n",
    "rf_model = RandomForestClassifier(random_state=12345)\n",
    "rf_model.fit(features_train, target_train)\n",
    "accuracy_rf = rf_model.score(features_valid, target_valid)\n",
    "print('Validation accuracy (random forest): ', accuracy_rf)"
   ]
  },
  {
   "cell_type": "markdown",
   "metadata": {},
   "source": [
    "As expected we see an increase in accuracy with our random forest model.  The added training and testing time of generating a random forest will help us in our goal of achieving the highest possible accuracy.  Next, we will tune the parameters."
   ]
  },
  {
   "cell_type": "code",
   "execution_count": 16,
   "metadata": {},
   "outputs": [
    {
     "name": "stdout",
     "output_type": "stream",
     "text": [
      "Accuracy of the best model on the validation set: 0.7993779160186625 n_estimators: 100 best_depth: 15\n"
     ]
    }
   ],
   "source": [
    "\n",
    "best_model = None\n",
    "best_result = 0\n",
    "best_est = 0\n",
    "best_depth = 0\n",
    "for est in range(100, 200, 5):\n",
    "    for depth in range (10, 20, 5):\n",
    "        model = RandomForestClassifier(random_state=12345, n_estimators=est, max_depth = depth)\n",
    "        model.fit(features_train, target_train)\n",
    "        predictions_valid = model.predict(features_valid)\n",
    "        result = accuracy_score(target_valid, predictions_valid)\n",
    "        if result > best_result:\n",
    "            best_model = model\n",
    "            best_result = result\n",
    "            best_est = est\n",
    "            best_depth = depth\n",
    "\n",
    "print(\"Accuracy of the best model on the validation set:\", best_result,\n",
    "      \"n_estimators:\", best_est, \"best_depth:\", best_depth)"
   ]
  },
  {
   "cell_type": "markdown",
   "metadata": {},
   "source": [
    "We will zoom in around these n_estimator and depth values to try to get an even higher accuracy:"
   ]
  },
  {
   "cell_type": "code",
   "execution_count": 17,
   "metadata": {
    "scrolled": true
   },
   "outputs": [
    {
     "name": "stdout",
     "output_type": "stream",
     "text": [
      "Accuracy of the best model on the validation set: 0.80248833592535 n_estimators: 108 best_depth: 12\n"
     ]
    }
   ],
   "source": [
    "best_model = None\n",
    "best_result = 0\n",
    "best_est = 0\n",
    "best_depth = 0\n",
    "for est in range(105, 110):\n",
    "    for depth in range (10,15):\n",
    "        model = RandomForestClassifier(random_state=12345, n_estimators=est, max_depth = depth)\n",
    "        model.fit(features_train, target_train)\n",
    "        predictions_valid = model.predict(features_valid)\n",
    "        result = accuracy_score(target_valid, predictions_valid)\n",
    "        if result > best_result:\n",
    "            best_model = model\n",
    "            best_result = result\n",
    "            best_est = est\n",
    "            best_depth = depth\n",
    "\n",
    "print(\"Accuracy of the best model on the validation set:\", best_result,\n",
    "      \"n_estimators:\", best_est, \"best_depth:\", best_depth)"
   ]
  },
  {
   "cell_type": "markdown",
   "metadata": {},
   "source": [
    "We have found the best values for n_estimators and depth."
   ]
  },
  {
   "cell_type": "code",
   "execution_count": 18,
   "metadata": {},
   "outputs": [
    {
     "name": "stdout",
     "output_type": "stream",
     "text": [
      "Test Accuracy:  0.7978227060653188\n"
     ]
    }
   ],
   "source": [
    "model = RandomForestClassifier(n_estimators=108, max_depth=12, random_state=12345)\n",
    "model.fit(features_train_values, target_train_values)\n",
    "test_predictions = model.predict(features_test)\n",
    "accuracy = accuracy_score(target_test, test_predictions)\n",
    "print('Test Accuracy: ', accuracy)"
   ]
  },
  {
   "cell_type": "code",
   "execution_count": 19,
   "metadata": {},
   "outputs": [
    {
     "name": "stdout",
     "output_type": "stream",
     "text": [
      "              precision    recall  f1-score   support\n",
      "\n",
      "           0       0.82      0.91      0.86       447\n",
      "           1       0.73      0.54      0.62       196\n",
      "\n",
      "    accuracy                           0.80       643\n",
      "   macro avg       0.77      0.72      0.74       643\n",
      "weighted avg       0.79      0.80      0.79       643\n",
      "\n",
      "\n",
      "Confusion Matrix:\n",
      "[[408  39]\n",
      " [ 91 105]]\n"
     ]
    }
   ],
   "source": [
    "print(classification_report(target_test, test_predictions))\n",
    "print('\\nConfusion Matrix:')\n",
    "print(confusion_matrix(target_test, test_predictions))"
   ]
  },
  {
   "cell_type": "markdown",
   "metadata": {},
   "source": [
    "Here we can see the model performs strongly at recommending the Smart class.  The highest concern would be that the model only finds 54% (91 False Negatives) of Ultra users - potentially under-recommending the premium plan."
   ]
  },
  {
   "cell_type": "code",
   "execution_count": 20,
   "metadata": {},
   "outputs": [
    {
     "data": {
      "image/png": "[encoded data removed]",
      "text/plain": [
       "<Figure size 640x480 with 1 Axes>"
      ]
     },
     "metadata": {},
     "output_type": "display_data"
    }
   ],
   "source": [
    "importances = model.feature_importances_\n",
    "feature_names = features.columns\n",
    "sns.barplot(x=importances, y=feature_names)\n",
    "plt.title('Feature Importance')\n",
    "plt.show()"
   ]
  },
  {
   "cell_type": "markdown",
   "metadata": {},
   "source": [
    "We see that mb_used contributed the most to the model's decisions, while the amount of messages sent contributed the least.  Users with higher MB consumption are the most likely to be matched with the Ultra plan."
   ]
  },
  {
   "cell_type": "markdown",
   "metadata": {},
   "source": [
    "## Conclusion\n",
    "\n",
    "We have selected the final model with n_estimators=108 and max_depth=12, based on validation accuracy of 0.802. When tested on the unseen data, the model achieved 0.798 accuracy, confirming stable generalization and meeting the project threshold of 0.75.\n",
    "\n",
    "We see that mb_used contributed the most to the model's decisions, while the amount of messages sent contributed the least.  Users with higher MB consumption are the most likely to be matched with the Ultra plan.\n",
    "\n",
    "Finally, while this model is highly tuned for accuracy, we can see in the confusion matrix the highest percentage of concern for misclassification would be for higher usage users being recommended the Smart plan when they should have been recommended the Ultra plan.  While this misclassification can lead to user overages, we see much less error in terms of recommending the higher tier subscription to low-usage users."
   ]
  }
 ],
 "metadata": {
  "kernelspec": {
   "display_name": "Python (newenv)",
   "language": "python",
   "name": "newenv"
  },
  "language_info": {
   "codemirror_mode": {
    "name": "ipython",
    "version": 3
   },
   "file_extension": ".py",
   "mimetype": "text/x-python",
   "name": "python",
   "nbconvert_exporter": "python",
   "pygments_lexer": "ipython3",
   "version": "3.11.13"
  }
 },
 "nbformat": 4,
 "nbformat_minor": 4
}
